{
 "cells": [
  {
   "cell_type": "markdown",
   "id": "e70f18ba",
   "metadata": {},
   "source": [
    "## Import Required Libraries\n",
    "Import all necessary libraries for data manipulation, visualization, and machine learning."
   ]
  },
  {
   "cell_type": "code",
   "execution_count": 1,
   "id": "46e0710c-e0c5-46fd-b69a-d2760ca61dd3",
   "metadata": {},
   "outputs": [],
   "source": [
    "import pandas as pd\n",
    "from sklearn.model_selection import train_test_split\n",
    "from sklearn.linear_model import LinearRegression, LogisticRegression\n",
    "from sklearn.metrics import accuracy_score\n",
    "from sklearn.ensemble import RandomForestClassifier, RandomForestRegressor\n",
    "from sklearn.metrics import mean_squared_error, mean_absolute_error, accuracy_score, confusion_matrix, root_mean_squared_error, precision_score, recall_score, f1_score, roc_auc_score, r2_score\n",
    "\n",
    "import matplotlib.pyplot as plt\n",
    "import numpy as np\n",
    "import seaborn as sns"
   ]
  },
  {
   "cell_type": "markdown",
   "id": "ac56f44d",
   "metadata": {},
   "source": [
    "## Load and Inspect Data\n",
    "Read the dataset and display its head and info to understand the structure and types of data."
   ]
  },
  {
   "cell_type": "code",
   "execution_count": 2,
   "id": "4aedb59d-e012-4daf-9cb7-f95d8083f25b",
   "metadata": {},
   "outputs": [
    {
     "name": "stdout",
     "output_type": "stream",
     "text": [
      "<class 'pandas.core.frame.DataFrame'>\n",
      "RangeIndex: 5050 entries, 0 to 5049\n",
      "Data columns (total 8 columns):\n",
      " #   Column           Non-Null Count  Dtype  \n",
      "---  ------           --------------  -----  \n",
      " 0   Student_ID       5050 non-null   object \n",
      " 1   Hours_Study      4957 non-null   float64\n",
      " 2   Sleep_Hours      4961 non-null   float64\n",
      " 3   Internships      5050 non-null   int64  \n",
      " 4   Projects         5050 non-null   int64  \n",
      " 5   CGPA             4946 non-null   float64\n",
      " 6   Placement_Score  5050 non-null   float64\n",
      " 7   Placed           5050 non-null   int64  \n",
      "dtypes: float64(4), int64(3), object(1)\n",
      "memory usage: 315.8+ KB\n"
     ]
    }
   ],
   "source": [
    "df = pd.read_csv('student_career_performance.csv')\n",
    "df.head()\n",
    "df.info()"
   ]
  },
  {
   "cell_type": "markdown",
   "id": "e21f1c72",
   "metadata": {},
   "source": [
    "## Handle Missing Values\n",
    "Fill missing values in key columns with their median values to ensure data completeness."
   ]
  },
  {
   "cell_type": "code",
   "execution_count": 3,
   "id": "c8e1fd42-22bc-4518-b0fe-00362fb05b61",
   "metadata": {},
   "outputs": [
    {
     "name": "stdout",
     "output_type": "stream",
     "text": [
      "<class 'pandas.core.frame.DataFrame'>\n",
      "RangeIndex: 5050 entries, 0 to 5049\n",
      "Data columns (total 8 columns):\n",
      " #   Column           Non-Null Count  Dtype  \n",
      "---  ------           --------------  -----  \n",
      " 0   Student_ID       5050 non-null   object \n",
      " 1   Hours_Study      5050 non-null   float64\n",
      " 2   Sleep_Hours      5050 non-null   float64\n",
      " 3   Internships      5050 non-null   int64  \n",
      " 4   Projects         5050 non-null   int64  \n",
      " 5   CGPA             5050 non-null   float64\n",
      " 6   Placement_Score  5050 non-null   float64\n",
      " 7   Placed           5050 non-null   int64  \n",
      "dtypes: float64(4), int64(3), object(1)\n",
      "memory usage: 315.8+ KB\n"
     ]
    },
    {
     "name": "stderr",
     "output_type": "stream",
     "text": [
      "C:\\Users\\ahite\\AppData\\Local\\Temp\\ipykernel_14680\\3485050254.py:4: FutureWarning: A value is trying to be set on a copy of a DataFrame or Series through chained assignment using an inplace method.\n",
      "The behavior will change in pandas 3.0. This inplace method will never work because the intermediate object on which we are setting values always behaves as a copy.\n",
      "\n",
      "For example, when doing 'df[col].method(value, inplace=True)', try using 'df.method({col: value}, inplace=True)' or df[col] = df[col].method(value) instead, to perform the operation inplace on the original object.\n",
      "\n",
      "\n",
      "  df[col].fillna(median_val, inplace =True)\n",
      "C:\\Users\\ahite\\AppData\\Local\\Temp\\ipykernel_14680\\3485050254.py:4: FutureWarning: A value is trying to be set on a copy of a DataFrame or Series through chained assignment using an inplace method.\n",
      "The behavior will change in pandas 3.0. This inplace method will never work because the intermediate object on which we are setting values always behaves as a copy.\n",
      "\n",
      "For example, when doing 'df[col].method(value, inplace=True)', try using 'df.method({col: value}, inplace=True)' or df[col] = df[col].method(value) instead, to perform the operation inplace on the original object.\n",
      "\n",
      "\n",
      "  df[col].fillna(median_val, inplace =True)\n",
      "C:\\Users\\ahite\\AppData\\Local\\Temp\\ipykernel_14680\\3485050254.py:4: FutureWarning: A value is trying to be set on a copy of a DataFrame or Series through chained assignment using an inplace method.\n",
      "The behavior will change in pandas 3.0. This inplace method will never work because the intermediate object on which we are setting values always behaves as a copy.\n",
      "\n",
      "For example, when doing 'df[col].method(value, inplace=True)', try using 'df.method({col: value}, inplace=True)' or df[col] = df[col].method(value) instead, to perform the operation inplace on the original object.\n",
      "\n",
      "\n",
      "  df[col].fillna(median_val, inplace =True)\n"
     ]
    }
   ],
   "source": [
    "for col in ['Hours_Study', 'Sleep_Hours', 'Internships', 'Projects', 'CGPA', 'Placement_Score', 'Placed']:\n",
    "    if df[col].isnull().any():\n",
    "        median_val = df[col].median()\n",
    "        df[col].fillna(median_val, inplace =True)\n",
    "df.info()"
   ]
  },
  {
   "cell_type": "markdown",
   "id": "af4d1939",
   "metadata": {},
   "source": [
    "## Data Cleaning\n",
    "Remove outliers and inconsistent data based on logical constraints for study hours, sleep hours, CGPA, and placement scores."
   ]
  },
  {
   "cell_type": "code",
   "execution_count": 4,
   "id": "248a9361",
   "metadata": {},
   "outputs": [
    {
     "data": {
      "application/vnd.microsoft.datawrangler.viewer.v0+json": {
       "columns": [
        {
         "name": "index",
         "rawType": "object",
         "type": "string"
        },
        {
         "name": "Hours_Study",
         "rawType": "float64",
         "type": "float"
        },
        {
         "name": "Sleep_Hours",
         "rawType": "float64",
         "type": "float"
        },
        {
         "name": "Internships",
         "rawType": "float64",
         "type": "float"
        },
        {
         "name": "Projects",
         "rawType": "float64",
         "type": "float"
        },
        {
         "name": "CGPA",
         "rawType": "float64",
         "type": "float"
        },
        {
         "name": "Placement_Score",
         "rawType": "float64",
         "type": "float"
        },
        {
         "name": "Placed",
         "rawType": "float64",
         "type": "float"
        }
       ],
       "ref": "2fde2442-8f50-4793-bd78-84bcb71130e2",
       "rows": [
        [
         "count",
         "4567.0",
         "4567.0",
         "4567.0",
         "4567.0",
         "4567.0",
         "4567.0",
         "4567.0"
        ],
        [
         "mean",
         "5.687781913728925",
         "7.188548281147363",
         "1.8408145390847384",
         "3.1556820670024086",
         "7.796436391504269",
         "99.66728705933873",
         "0.9949638712502737"
        ],
        [
         "std",
         "2.062736904499665",
         "1.2077635303792138",
         "1.3696280136345425",
         "1.7550571476183694",
         "1.1504857214988355",
         "2.382490731657871",
         "0.07079451649112119"
        ],
        [
         "min",
         "0.1",
         "2.5",
         "0.0",
         "0.0",
         "3.66",
         "51.9",
         "0.0"
        ],
        [
         "25%",
         "4.4",
         "6.4",
         "1.0",
         "2.0",
         "7.01",
         "100.0",
         "1.0"
        ],
        [
         "50%",
         "5.6",
         "7.2",
         "2.0",
         "3.0",
         "7.85",
         "100.0",
         "1.0"
        ],
        [
         "75%",
         "6.8",
         "8.0",
         "3.0",
         "4.0",
         "8.614999999999998",
         "100.0",
         "1.0"
        ],
        [
         "max",
         "17.2",
         "11.3",
         "8.0",
         "11.0",
         "10.0",
         "100.0",
         "1.0"
        ]
       ],
       "shape": {
        "columns": 7,
        "rows": 8
       }
      },
      "text/html": [
       "<div>\n",
       "<style scoped>\n",
       "    .dataframe tbody tr th:only-of-type {\n",
       "        vertical-align: middle;\n",
       "    }\n",
       "\n",
       "    .dataframe tbody tr th {\n",
       "        vertical-align: top;\n",
       "    }\n",
       "\n",
       "    .dataframe thead th {\n",
       "        text-align: right;\n",
       "    }\n",
       "</style>\n",
       "<table border=\"1\" class=\"dataframe\">\n",
       "  <thead>\n",
       "    <tr style=\"text-align: right;\">\n",
       "      <th></th>\n",
       "      <th>Hours_Study</th>\n",
       "      <th>Sleep_Hours</th>\n",
       "      <th>Internships</th>\n",
       "      <th>Projects</th>\n",
       "      <th>CGPA</th>\n",
       "      <th>Placement_Score</th>\n",
       "      <th>Placed</th>\n",
       "    </tr>\n",
       "  </thead>\n",
       "  <tbody>\n",
       "    <tr>\n",
       "      <th>count</th>\n",
       "      <td>4567.000000</td>\n",
       "      <td>4567.000000</td>\n",
       "      <td>4567.000000</td>\n",
       "      <td>4567.000000</td>\n",
       "      <td>4567.000000</td>\n",
       "      <td>4567.000000</td>\n",
       "      <td>4567.000000</td>\n",
       "    </tr>\n",
       "    <tr>\n",
       "      <th>mean</th>\n",
       "      <td>5.687782</td>\n",
       "      <td>7.188548</td>\n",
       "      <td>1.840815</td>\n",
       "      <td>3.155682</td>\n",
       "      <td>7.796436</td>\n",
       "      <td>99.667287</td>\n",
       "      <td>0.994964</td>\n",
       "    </tr>\n",
       "    <tr>\n",
       "      <th>std</th>\n",
       "      <td>2.062737</td>\n",
       "      <td>1.207764</td>\n",
       "      <td>1.369628</td>\n",
       "      <td>1.755057</td>\n",
       "      <td>1.150486</td>\n",
       "      <td>2.382491</td>\n",
       "      <td>0.070795</td>\n",
       "    </tr>\n",
       "    <tr>\n",
       "      <th>min</th>\n",
       "      <td>0.100000</td>\n",
       "      <td>2.500000</td>\n",
       "      <td>0.000000</td>\n",
       "      <td>0.000000</td>\n",
       "      <td>3.660000</td>\n",
       "      <td>51.900000</td>\n",
       "      <td>0.000000</td>\n",
       "    </tr>\n",
       "    <tr>\n",
       "      <th>25%</th>\n",
       "      <td>4.400000</td>\n",
       "      <td>6.400000</td>\n",
       "      <td>1.000000</td>\n",
       "      <td>2.000000</td>\n",
       "      <td>7.010000</td>\n",
       "      <td>100.000000</td>\n",
       "      <td>1.000000</td>\n",
       "    </tr>\n",
       "    <tr>\n",
       "      <th>50%</th>\n",
       "      <td>5.600000</td>\n",
       "      <td>7.200000</td>\n",
       "      <td>2.000000</td>\n",
       "      <td>3.000000</td>\n",
       "      <td>7.850000</td>\n",
       "      <td>100.000000</td>\n",
       "      <td>1.000000</td>\n",
       "    </tr>\n",
       "    <tr>\n",
       "      <th>75%</th>\n",
       "      <td>6.800000</td>\n",
       "      <td>8.000000</td>\n",
       "      <td>3.000000</td>\n",
       "      <td>4.000000</td>\n",
       "      <td>8.615000</td>\n",
       "      <td>100.000000</td>\n",
       "      <td>1.000000</td>\n",
       "    </tr>\n",
       "    <tr>\n",
       "      <th>max</th>\n",
       "      <td>17.200000</td>\n",
       "      <td>11.300000</td>\n",
       "      <td>8.000000</td>\n",
       "      <td>11.000000</td>\n",
       "      <td>10.000000</td>\n",
       "      <td>100.000000</td>\n",
       "      <td>1.000000</td>\n",
       "    </tr>\n",
       "  </tbody>\n",
       "</table>\n",
       "</div>"
      ],
      "text/plain": [
       "       Hours_Study  Sleep_Hours  Internships     Projects         CGPA  \\\n",
       "count  4567.000000  4567.000000  4567.000000  4567.000000  4567.000000   \n",
       "mean      5.687782     7.188548     1.840815     3.155682     7.796436   \n",
       "std       2.062737     1.207764     1.369628     1.755057     1.150486   \n",
       "min       0.100000     2.500000     0.000000     0.000000     3.660000   \n",
       "25%       4.400000     6.400000     1.000000     2.000000     7.010000   \n",
       "50%       5.600000     7.200000     2.000000     3.000000     7.850000   \n",
       "75%       6.800000     8.000000     3.000000     4.000000     8.615000   \n",
       "max      17.200000    11.300000     8.000000    11.000000    10.000000   \n",
       "\n",
       "       Placement_Score       Placed  \n",
       "count      4567.000000  4567.000000  \n",
       "mean         99.667287     0.994964  \n",
       "std           2.382491     0.070795  \n",
       "min          51.900000     0.000000  \n",
       "25%         100.000000     1.000000  \n",
       "50%         100.000000     1.000000  \n",
       "75%         100.000000     1.000000  \n",
       "max         100.000000     1.000000  "
      ]
     },
     "execution_count": 4,
     "metadata": {},
     "output_type": "execute_result"
    }
   ],
   "source": [
    "df = df[df['Hours_Study'] + df['Sleep_Hours'] <= 24]\n",
    "df = df[df['CGPA'] <= 10]\n",
    "df = df[df['Hours_Study'] <= 24]\n",
    "df = df[df['Sleep_Hours'] <= 24]\n",
    "df = df[df['Hours_Study'] >= 0]\n",
    "df = df[~((df['Placed'] == 1) & (df['Placement_Score'] == 0))]\n",
    "df = df[~((df['Placed'] == 0) & (df['Placement_Score'] > 99))]\n",
    "df.describe()"
   ]
  },
  {
   "cell_type": "markdown",
   "id": "e10478e1",
   "metadata": {},
   "source": [
    "## Prepare Features and Target for Classification\n",
    "Separate the target variable (`Placed`) and drop unnecessary columns for classification tasks."
   ]
  },
  {
   "cell_type": "code",
   "execution_count": 5,
   "id": "83982b08-9dc3-498d-97f2-04c9d73cf792",
   "metadata": {},
   "outputs": [
    {
     "data": {
      "application/vnd.microsoft.datawrangler.viewer.v0+json": {
       "columns": [
        {
         "name": "index",
         "rawType": "int64",
         "type": "integer"
        },
        {
         "name": "Hours_Study",
         "rawType": "float64",
         "type": "float"
        },
        {
         "name": "Sleep_Hours",
         "rawType": "float64",
         "type": "float"
        },
        {
         "name": "Internships",
         "rawType": "int64",
         "type": "integer"
        },
        {
         "name": "Projects",
         "rawType": "int64",
         "type": "integer"
        },
        {
         "name": "CGPA",
         "rawType": "float64",
         "type": "float"
        },
        {
         "name": "Placement_Score",
         "rawType": "float64",
         "type": "float"
        },
        {
         "name": "Placed",
         "rawType": "int64",
         "type": "integer"
        }
       ],
       "ref": "7a7641ca-3b67-43e9-a37b-892cdaa0350b",
       "rows": [
        [
         "0",
         "6.4",
         "6.7",
         "1",
         "1",
         "6.39",
         "100.0",
         "1"
        ],
        [
         "1",
         "5.3",
         "6.7",
         "0",
         "3",
         "7.05",
         "100.0",
         "1"
        ],
        [
         "2",
         "6.7",
         "5.0",
         "0",
         "3",
         "6.55",
         "100.0",
         "1"
        ],
        [
         "3",
         "8.2",
         "6.8",
         "1",
         "3",
         "6.59",
         "100.0",
         "1"
        ],
        [
         "4",
         "5.1",
         "8.1",
         "2",
         "4",
         "6.94",
         "100.0",
         "1"
        ],
        [
         "5",
         "5.1",
         "5.7",
         "2",
         "0",
         "8.89",
         "100.0",
         "1"
        ],
        [
         "6",
         "8.3",
         "8.5",
         "3",
         "3",
         "5.69",
         "100.0",
         "1"
        ],
        [
         "8",
         "4.7",
         "6.3",
         "3",
         "2",
         "8.11",
         "100.0",
         "1"
        ],
        [
         "9",
         "6.5",
         "7.0",
         "4",
         "5",
         "8.96",
         "100.0",
         "1"
        ],
        [
         "10",
         "4.7",
         "9.1",
         "2",
         "2",
         "8.11",
         "100.0",
         "1"
        ],
        [
         "11",
         "4.7",
         "8.1",
         "1",
         "4",
         "7.35",
         "100.0",
         "1"
        ],
        [
         "12",
         "5.9",
         "7.2",
         "2",
         "4",
         "6.82",
         "100.0",
         "1"
        ],
        [
         "13",
         "2.1",
         "6.9",
         "1",
         "0",
         "8.99",
         "94.0",
         "1"
        ],
        [
         "14",
         "2.4",
         "7.3",
         "2",
         "1",
         "8.4",
         "100.0",
         "1"
        ],
        [
         "15",
         "4.5",
         "6.6",
         "0",
         "4",
         "7.21",
         "100.0",
         "1"
        ],
        [
         "16",
         "3.7",
         "4.7",
         "1",
         "2",
         "8.89",
         "100.0",
         "1"
        ],
        [
         "17",
         "6.1",
         "9.7",
         "1",
         "7",
         "7.26",
         "100.0",
         "1"
        ],
        [
         "18",
         "3.9",
         "7.4",
         "0",
         "4",
         "7.8",
         "100.0",
         "1"
        ],
        [
         "19",
         "3.0",
         "7.7",
         "0",
         "4",
         "7.07",
         "92.7",
         "1"
        ],
        [
         "20",
         "8.1",
         "7.1",
         "2",
         "2",
         "8.44",
         "100.0",
         "1"
        ],
        [
         "21",
         "5.1",
         "6.3",
         "1",
         "2",
         "6.61",
         "98.4",
         "1"
        ],
        [
         "22",
         "5.6",
         "7.0",
         "7",
         "2",
         "7.44",
         "100.0",
         "1"
        ],
        [
         "23",
         "2.9",
         "5.3",
         "1",
         "1",
         "7.01",
         "100.0",
         "1"
        ],
        [
         "24",
         "4.5",
         "9.9",
         "1",
         "3",
         "8.12",
         "100.0",
         "1"
        ],
        [
         "25",
         "5.7",
         "5.7",
         "1",
         "3",
         "8.27",
         "100.0",
         "1"
        ],
        [
         "26",
         "3.4",
         "6.0",
         "1",
         "2",
         "6.48",
         "100.0",
         "1"
        ],
        [
         "27",
         "6.2",
         "6.7",
         "4",
         "2",
         "8.29",
         "100.0",
         "1"
        ],
        [
         "28",
         "4.4",
         "8.7",
         "2",
         "1",
         "6.03",
         "86.9",
         "1"
        ],
        [
         "30",
         "4.4",
         "5.7",
         "1",
         "3",
         "7.19",
         "100.0",
         "1"
        ],
        [
         "31",
         "8.8",
         "7.2",
         "1",
         "4",
         "9.06",
         "100.0",
         "1"
        ],
        [
         "32",
         "5.5",
         "8.1",
         "0",
         "3",
         "8.04",
         "100.0",
         "1"
        ],
        [
         "33",
         "3.6",
         "7.8",
         "1",
         "4",
         "8.09",
         "100.0",
         "1"
        ],
        [
         "34",
         "7.0",
         "8.1",
         "4",
         "3",
         "6.4",
         "100.0",
         "1"
        ],
        [
         "35",
         "3.3",
         "7.2",
         "1",
         "7",
         "8.81",
         "100.0",
         "1"
        ],
        [
         "36",
         "5.9",
         "9.8",
         "2",
         "1",
         "7.86",
         "100.0",
         "1"
        ],
        [
         "37",
         "2.0",
         "6.4",
         "4",
         "3",
         "8.36",
         "100.0",
         "1"
        ],
        [
         "38",
         "3.1",
         "9.1",
         "2",
         "0",
         "7.69",
         "100.0",
         "1"
        ],
        [
         "39",
         "5.9",
         "7.7",
         "1",
         "3",
         "7.96",
         "100.0",
         "1"
        ],
        [
         "40",
         "6.8",
         "7.8",
         "2",
         "4",
         "6.74",
         "100.0",
         "1"
        ],
        [
         "41",
         "5.8",
         "5.2",
         "5",
         "2",
         "7.62",
         "100.0",
         "1"
        ],
        [
         "42",
         "5.3",
         "7.2",
         "1",
         "1",
         "7.3",
         "100.0",
         "1"
        ],
        [
         "43",
         "5.0",
         "6.2",
         "1",
         "3",
         "6.95",
         "100.0",
         "1"
        ],
        [
         "44",
         "2.8",
         "7.2",
         "2",
         "5",
         "7.96",
         "100.0",
         "1"
        ],
        [
         "45",
         "4.2",
         "8.5",
         "1",
         "6",
         "8.24",
         "100.0",
         "1"
        ],
        [
         "46",
         "4.7",
         "4.7",
         "5",
         "4",
         "8.1",
         "100.0",
         "1"
        ],
        [
         "47",
         "7.4",
         "7.2",
         "2",
         "0",
         "7.68",
         "100.0",
         "1"
        ],
        [
         "48",
         "6.1",
         "8.5",
         "0",
         "5",
         "8.29",
         "100.0",
         "1"
        ],
        [
         "49",
         "2.3",
         "7.0",
         "1",
         "1",
         "8.09",
         "100.0",
         "1"
        ],
        [
         "50",
         "6.1",
         "8.1",
         "2",
         "2",
         "7.92",
         "100.0",
         "1"
        ],
        [
         "51",
         "4.8",
         "7.6",
         "1",
         "2",
         "8.0",
         "100.0",
         "1"
        ]
       ],
       "shape": {
        "columns": 7,
        "rows": 4567
       }
      },
      "text/html": [
       "<div>\n",
       "<style scoped>\n",
       "    .dataframe tbody tr th:only-of-type {\n",
       "        vertical-align: middle;\n",
       "    }\n",
       "\n",
       "    .dataframe tbody tr th {\n",
       "        vertical-align: top;\n",
       "    }\n",
       "\n",
       "    .dataframe thead th {\n",
       "        text-align: right;\n",
       "    }\n",
       "</style>\n",
       "<table border=\"1\" class=\"dataframe\">\n",
       "  <thead>\n",
       "    <tr style=\"text-align: right;\">\n",
       "      <th></th>\n",
       "      <th>Hours_Study</th>\n",
       "      <th>Sleep_Hours</th>\n",
       "      <th>Internships</th>\n",
       "      <th>Projects</th>\n",
       "      <th>CGPA</th>\n",
       "      <th>Placement_Score</th>\n",
       "      <th>Placed</th>\n",
       "    </tr>\n",
       "  </thead>\n",
       "  <tbody>\n",
       "    <tr>\n",
       "      <th>0</th>\n",
       "      <td>6.4</td>\n",
       "      <td>6.7</td>\n",
       "      <td>1</td>\n",
       "      <td>1</td>\n",
       "      <td>6.39</td>\n",
       "      <td>100.0</td>\n",
       "      <td>1</td>\n",
       "    </tr>\n",
       "    <tr>\n",
       "      <th>1</th>\n",
       "      <td>5.3</td>\n",
       "      <td>6.7</td>\n",
       "      <td>0</td>\n",
       "      <td>3</td>\n",
       "      <td>7.05</td>\n",
       "      <td>100.0</td>\n",
       "      <td>1</td>\n",
       "    </tr>\n",
       "    <tr>\n",
       "      <th>2</th>\n",
       "      <td>6.7</td>\n",
       "      <td>5.0</td>\n",
       "      <td>0</td>\n",
       "      <td>3</td>\n",
       "      <td>6.55</td>\n",
       "      <td>100.0</td>\n",
       "      <td>1</td>\n",
       "    </tr>\n",
       "    <tr>\n",
       "      <th>3</th>\n",
       "      <td>8.2</td>\n",
       "      <td>6.8</td>\n",
       "      <td>1</td>\n",
       "      <td>3</td>\n",
       "      <td>6.59</td>\n",
       "      <td>100.0</td>\n",
       "      <td>1</td>\n",
       "    </tr>\n",
       "    <tr>\n",
       "      <th>4</th>\n",
       "      <td>5.1</td>\n",
       "      <td>8.1</td>\n",
       "      <td>2</td>\n",
       "      <td>4</td>\n",
       "      <td>6.94</td>\n",
       "      <td>100.0</td>\n",
       "      <td>1</td>\n",
       "    </tr>\n",
       "    <tr>\n",
       "      <th>...</th>\n",
       "      <td>...</td>\n",
       "      <td>...</td>\n",
       "      <td>...</td>\n",
       "      <td>...</td>\n",
       "      <td>...</td>\n",
       "      <td>...</td>\n",
       "      <td>...</td>\n",
       "    </tr>\n",
       "    <tr>\n",
       "      <th>5045</th>\n",
       "      <td>7.2</td>\n",
       "      <td>4.7</td>\n",
       "      <td>1</td>\n",
       "      <td>2</td>\n",
       "      <td>7.78</td>\n",
       "      <td>100.0</td>\n",
       "      <td>1</td>\n",
       "    </tr>\n",
       "    <tr>\n",
       "      <th>5046</th>\n",
       "      <td>2.5</td>\n",
       "      <td>6.3</td>\n",
       "      <td>2</td>\n",
       "      <td>3</td>\n",
       "      <td>7.87</td>\n",
       "      <td>100.0</td>\n",
       "      <td>1</td>\n",
       "    </tr>\n",
       "    <tr>\n",
       "      <th>5047</th>\n",
       "      <td>2.1</td>\n",
       "      <td>6.4</td>\n",
       "      <td>0</td>\n",
       "      <td>2</td>\n",
       "      <td>6.28</td>\n",
       "      <td>98.6</td>\n",
       "      <td>1</td>\n",
       "    </tr>\n",
       "    <tr>\n",
       "      <th>5048</th>\n",
       "      <td>1.7</td>\n",
       "      <td>10.6</td>\n",
       "      <td>1</td>\n",
       "      <td>3</td>\n",
       "      <td>8.50</td>\n",
       "      <td>100.0</td>\n",
       "      <td>1</td>\n",
       "    </tr>\n",
       "    <tr>\n",
       "      <th>5049</th>\n",
       "      <td>6.6</td>\n",
       "      <td>9.0</td>\n",
       "      <td>2</td>\n",
       "      <td>0</td>\n",
       "      <td>9.42</td>\n",
       "      <td>100.0</td>\n",
       "      <td>1</td>\n",
       "    </tr>\n",
       "  </tbody>\n",
       "</table>\n",
       "<p>4567 rows × 7 columns</p>\n",
       "</div>"
      ],
      "text/plain": [
       "      Hours_Study  Sleep_Hours  Internships  Projects  CGPA  Placement_Score  \\\n",
       "0             6.4          6.7            1         1  6.39            100.0   \n",
       "1             5.3          6.7            0         3  7.05            100.0   \n",
       "2             6.7          5.0            0         3  6.55            100.0   \n",
       "3             8.2          6.8            1         3  6.59            100.0   \n",
       "4             5.1          8.1            2         4  6.94            100.0   \n",
       "...           ...          ...          ...       ...   ...              ...   \n",
       "5045          7.2          4.7            1         2  7.78            100.0   \n",
       "5046          2.5          6.3            2         3  7.87            100.0   \n",
       "5047          2.1          6.4            0         2  6.28             98.6   \n",
       "5048          1.7         10.6            1         3  8.50            100.0   \n",
       "5049          6.6          9.0            2         0  9.42            100.0   \n",
       "\n",
       "      Placed  \n",
       "0          1  \n",
       "1          1  \n",
       "2          1  \n",
       "3          1  \n",
       "4          1  \n",
       "...      ...  \n",
       "5045       1  \n",
       "5046       1  \n",
       "5047       1  \n",
       "5048       1  \n",
       "5049       1  \n",
       "\n",
       "[4567 rows x 7 columns]"
      ]
     },
     "execution_count": 5,
     "metadata": {},
     "output_type": "execute_result"
    }
   ],
   "source": [
    "y = df['Placed']\n",
    "df.drop('Student_ID', axis=1, inplace=True)\n",
    "X = df.drop(columns=['Placed'])\n",
    "df.describe()\n",
    "df"
   ]
  },
  {
   "cell_type": "markdown",
   "id": "bd89ca06",
   "metadata": {},
   "source": [
    "## Split Data for Classification\n",
    "Split the data into training and testing sets for classification models."
   ]
  },
  {
   "cell_type": "code",
   "execution_count": 6,
   "id": "48bf0ea5-36e1-4231-9d88-f975da340492",
   "metadata": {},
   "outputs": [],
   "source": [
    "X_train, X_test, y_train, y_test = train_test_split(X, y, test_size=0.2, random_state=42)"
   ]
  },
  {
   "cell_type": "markdown",
   "id": "b4e06799",
   "metadata": {},
   "source": [
    "## Train Logistic Regression Model\n",
    "Fit a logistic regression model to predict placement and evaluate its accuracy."
   ]
  },
  {
   "cell_type": "code",
   "execution_count": 7,
   "id": "49685aa9-78f1-4974-ac0a-6d4e50bffb90",
   "metadata": {},
   "outputs": [
    {
     "name": "stdout",
     "output_type": "stream",
     "text": [
      "Logistic Regression Test Accuracy: 0.9923\n"
     ]
    }
   ],
   "source": [
    "logistic_model = LogisticRegression(max_iter=100)\n",
    "logistic_model.fit(X_train, y_train)\n",
    "y_pred_logistic = logistic_model.predict(X_test)\n",
    "logistic_accuracy = accuracy_score(y_test, y_pred_logistic)\n",
    "print(f'Logistic Regression Test Accuracy: {logistic_accuracy:.4f}')"
   ]
  },
  {
   "cell_type": "markdown",
   "id": "781f81f1",
   "metadata": {},
   "source": [
    "## Logistic Regression Metrics\n",
    "Display precision, recall, F1 score, and ROC AUC for the logistic regression model."
   ]
  },
  {
   "cell_type": "code",
   "execution_count": 8,
   "id": "98c0da78",
   "metadata": {},
   "outputs": [
    {
     "name": "stdout",
     "output_type": "stream",
     "text": [
      "Logistic Regression Test Accuracy: 0.9923\n",
      "Precision: 1.00\n",
      "Recall:    1.00\n",
      "F1 Score:  1.00\n",
      "ROC AUC:   0.97\n"
     ]
    }
   ],
   "source": [
    "print(f'Logistic Regression Test Accuracy: {logistic_accuracy:.4f}')\n",
    "print(f\"Precision: {precision_score(y_test, y_pred_logistic):.2f}\")\n",
    "print(f\"Recall:    {recall_score(y_test, y_pred_logistic):.2f}\")\n",
    "print(f\"F1 Score:  {f1_score(y_test, y_pred_logistic):.2f}\")\n",
    "print(f\"ROC AUC:   {roc_auc_score(y_test, logistic_model.predict_proba(X_test)[:,1]):.2f}\")"
   ]
  },
  {
   "cell_type": "markdown",
   "id": "47ba4dab",
   "metadata": {},
   "source": [
    "## Confusion Matrix for Logistic Regression\n",
    "Visualize the confusion matrix for the logistic regression predictions."
   ]
  },
  {
   "cell_type": "code",
   "execution_count": 9,
   "id": "c781a2c9",
   "metadata": {},
   "outputs": [
    {
     "data": {
      "image/png": "[encoded data removed]",
      "text/plain": [
       "<Figure size 640x480 with 2 Axes>"
      ]
     },
     "metadata": {},
     "output_type": "display_data"
    }
   ],
   "source": [
    "cm = confusion_matrix(y_test, y_pred_logistic)\n",
    "sns.heatmap(cm, annot=True, fmt='d', cmap='Blues')\n",
    "plt.xlabel('Predicted')\n",
    "plt.ylabel('Actual')\n",
    "plt.title('Logistic Regression: Confusion Matrix')\n",
    "plt.show()"
   ]
  },
  {
   "cell_type": "markdown",
   "id": "23c6103d",
   "metadata": {},
   "source": [
    "## Data Description\n",
    "Show descriptive statistics of the cleaned dataset."
   ]
  },
  {
   "cell_type": "code",
   "execution_count": 10,
   "id": "19ccc05b",
   "metadata": {},
   "outputs": [
    {
     "data": {
      "application/vnd.microsoft.datawrangler.viewer.v0+json": {
       "columns": [
        {
         "name": "index",
         "rawType": "object",
         "type": "string"
        },
        {
         "name": "Hours_Study",
         "rawType": "float64",
         "type": "float"
        },
        {
         "name": "Sleep_Hours",
         "rawType": "float64",
         "type": "float"
        },
        {
         "name": "Internships",
         "rawType": "float64",
         "type": "float"
        },
        {
         "name": "Projects",
         "rawType": "float64",
         "type": "float"
        },
        {
         "name": "CGPA",
         "rawType": "float64",
         "type": "float"
        },
        {
         "name": "Placement_Score",
         "rawType": "float64",
         "type": "float"
        },
        {
         "name": "Placed",
         "rawType": "float64",
         "type": "float"
        }
       ],
       "ref": "70175776-4d13-4ed4-af63-0f13eed33bbe",
       "rows": [
        [
         "count",
         "4567.0",
         "4567.0",
         "4567.0",
         "4567.0",
         "4567.0",
         "4567.0",
         "4567.0"
        ],
        [
         "mean",
         "5.687781913728925",
         "7.188548281147363",
         "1.8408145390847384",
         "3.1556820670024086",
         "7.796436391504269",
         "99.66728705933873",
         "0.9949638712502737"
        ],
        [
         "std",
         "2.062736904499665",
         "1.2077635303792138",
         "1.3696280136345425",
         "1.7550571476183694",
         "1.1504857214988355",
         "2.382490731657871",
         "0.07079451649112119"
        ],
        [
         "min",
         "0.1",
         "2.5",
         "0.0",
         "0.0",
         "3.66",
         "51.9",
         "0.0"
        ],
        [
         "25%",
         "4.4",
         "6.4",
         "1.0",
         "2.0",
         "7.01",
         "100.0",
         "1.0"
        ],
        [
         "50%",
         "5.6",
         "7.2",
         "2.0",
         "3.0",
         "7.85",
         "100.0",
         "1.0"
        ],
        [
         "75%",
         "6.8",
         "8.0",
         "3.0",
         "4.0",
         "8.614999999999998",
         "100.0",
         "1.0"
        ],
        [
         "max",
         "17.2",
         "11.3",
         "8.0",
         "11.0",
         "10.0",
         "100.0",
         "1.0"
        ]
       ],
       "shape": {
        "columns": 7,
        "rows": 8
       }
      },
      "text/html": [
       "<div>\n",
       "<style scoped>\n",
       "    .dataframe tbody tr th:only-of-type {\n",
       "        vertical-align: middle;\n",
       "    }\n",
       "\n",
       "    .dataframe tbody tr th {\n",
       "        vertical-align: top;\n",
       "    }\n",
       "\n",
       "    .dataframe thead th {\n",
       "        text-align: right;\n",
       "    }\n",
       "</style>\n",
       "<table border=\"1\" class=\"dataframe\">\n",
       "  <thead>\n",
       "    <tr style=\"text-align: right;\">\n",
       "      <th></th>\n",
       "      <th>Hours_Study</th>\n",
       "      <th>Sleep_Hours</th>\n",
       "      <th>Internships</th>\n",
       "      <th>Projects</th>\n",
       "      <th>CGPA</th>\n",
       "      <th>Placement_Score</th>\n",
       "      <th>Placed</th>\n",
       "    </tr>\n",
       "  </thead>\n",
       "  <tbody>\n",
       "    <tr>\n",
       "      <th>count</th>\n",
       "      <td>4567.000000</td>\n",
       "      <td>4567.000000</td>\n",
       "      <td>4567.000000</td>\n",
       "      <td>4567.000000</td>\n",
       "      <td>4567.000000</td>\n",
       "      <td>4567.000000</td>\n",
       "      <td>4567.000000</td>\n",
       "    </tr>\n",
       "    <tr>\n",
       "      <th>mean</th>\n",
       "      <td>5.687782</td>\n",
       "      <td>7.188548</td>\n",
       "      <td>1.840815</td>\n",
       "      <td>3.155682</td>\n",
       "      <td>7.796436</td>\n",
       "      <td>99.667287</td>\n",
       "      <td>0.994964</td>\n",
       "    </tr>\n",
       "    <tr>\n",
       "      <th>std</th>\n",
       "      <td>2.062737</td>\n",
       "      <td>1.207764</td>\n",
       "      <td>1.369628</td>\n",
       "      <td>1.755057</td>\n",
       "      <td>1.150486</td>\n",
       "      <td>2.382491</td>\n",
       "      <td>0.070795</td>\n",
       "    </tr>\n",
       "    <tr>\n",
       "      <th>min</th>\n",
       "      <td>0.100000</td>\n",
       "      <td>2.500000</td>\n",
       "      <td>0.000000</td>\n",
       "      <td>0.000000</td>\n",
       "      <td>3.660000</td>\n",
       "      <td>51.900000</td>\n",
       "      <td>0.000000</td>\n",
       "    </tr>\n",
       "    <tr>\n",
       "      <th>25%</th>\n",
       "      <td>4.400000</td>\n",
       "      <td>6.400000</td>\n",
       "      <td>1.000000</td>\n",
       "      <td>2.000000</td>\n",
       "      <td>7.010000</td>\n",
       "      <td>100.000000</td>\n",
       "      <td>1.000000</td>\n",
       "    </tr>\n",
       "    <tr>\n",
       "      <th>50%</th>\n",
       "      <td>5.600000</td>\n",
       "      <td>7.200000</td>\n",
       "      <td>2.000000</td>\n",
       "      <td>3.000000</td>\n",
       "      <td>7.850000</td>\n",
       "      <td>100.000000</td>\n",
       "      <td>1.000000</td>\n",
       "    </tr>\n",
       "    <tr>\n",
       "      <th>75%</th>\n",
       "      <td>6.800000</td>\n",
       "      <td>8.000000</td>\n",
       "      <td>3.000000</td>\n",
       "      <td>4.000000</td>\n",
       "      <td>8.615000</td>\n",
       "      <td>100.000000</td>\n",
       "      <td>1.000000</td>\n",
       "    </tr>\n",
       "    <tr>\n",
       "      <th>max</th>\n",
       "      <td>17.200000</td>\n",
       "      <td>11.300000</td>\n",
       "      <td>8.000000</td>\n",
       "      <td>11.000000</td>\n",
       "      <td>10.000000</td>\n",
       "      <td>100.000000</td>\n",
       "      <td>1.000000</td>\n",
       "    </tr>\n",
       "  </tbody>\n",
       "</table>\n",
       "</div>"
      ],
      "text/plain": [
       "       Hours_Study  Sleep_Hours  Internships     Projects         CGPA  \\\n",
       "count  4567.000000  4567.000000  4567.000000  4567.000000  4567.000000   \n",
       "mean      5.687782     7.188548     1.840815     3.155682     7.796436   \n",
       "std       2.062737     1.207764     1.369628     1.755057     1.150486   \n",
       "min       0.100000     2.500000     0.000000     0.000000     3.660000   \n",
       "25%       4.400000     6.400000     1.000000     2.000000     7.010000   \n",
       "50%       5.600000     7.200000     2.000000     3.000000     7.850000   \n",
       "75%       6.800000     8.000000     3.000000     4.000000     8.615000   \n",
       "max      17.200000    11.300000     8.000000    11.000000    10.000000   \n",
       "\n",
       "       Placement_Score       Placed  \n",
       "count      4567.000000  4567.000000  \n",
       "mean         99.667287     0.994964  \n",
       "std           2.382491     0.070795  \n",
       "min          51.900000     0.000000  \n",
       "25%         100.000000     1.000000  \n",
       "50%         100.000000     1.000000  \n",
       "75%         100.000000     1.000000  \n",
       "max         100.000000     1.000000  "
      ]
     },
     "execution_count": 10,
     "metadata": {},
     "output_type": "execute_result"
    }
   ],
   "source": [
    "df.describe()   "
   ]
  },
  {
   "cell_type": "markdown",
   "id": "79727331",
   "metadata": {},
   "source": [
    "## Train Random Forest Classifier\n",
    "Fit a random forest classifier and evaluate its accuracy."
   ]
  },
  {
   "cell_type": "code",
   "execution_count": 11,
   "id": "a08794e1",
   "metadata": {},
   "outputs": [
    {
     "name": "stdout",
     "output_type": "stream",
     "text": [
      "Random Forest Classifier Test Accuracy: 0.9934\n"
     ]
    }
   ],
   "source": [
    "rf_clf = RandomForestClassifier(n_estimators=100, random_state=100)\n",
    "rf_clf.fit(X_train, y_train)\n",
    "y_rf_clf_pred = rf_clf.predict(X_test)\n",
    "rf_clf_accuracy = accuracy_score(y_test, y_rf_clf_pred)\n",
    "print(f'Random Forest Classifier Test Accuracy: {rf_clf_accuracy:.4f}')"
   ]
  },
  {
   "cell_type": "markdown",
   "id": "da10c31c",
   "metadata": {},
   "source": [
    "## Feature Importance (Random Forest)\n",
    "Visualize the importance of each feature as determined by the random forest classifier."
   ]
  },
  {
   "cell_type": "code",
   "execution_count": 12,
   "id": "e476c229",
   "metadata": {},
   "outputs": [
    {
     "data": {
      "image/png": "[encoded data removed]",
      "text/plain": [
       "<Figure size 1000x600 with 1 Axes>"
      ]
     },
     "metadata": {},
     "output_type": "display_data"
    }
   ],
   "source": [
    "importances = rf_clf.feature_importances_\n",
    "feature_names = X.columns\n",
    "feature_importance_series = pd.Series(importances, index=feature_names).sort_values(ascending=False)\n",
    "plt.figure(figsize=(10, 6))\n",
    "feature_importance_series.plot(kind='pie')\n",
    "plt.title('Feature Importances from Random Forest')\n",
    "plt.ylabel('Importance')\n",
    "plt.show()"
   ]
  },
  {
   "cell_type": "markdown",
   "id": "b57a7c13",
   "metadata": {},
   "source": [
    "## Prepare Features and Target for Regression\n",
    "Separate the target variable (`Placement_Score`) and features for regression tasks."
   ]
  },
  {
   "cell_type": "code",
   "execution_count": 13,
   "id": "67de0566",
   "metadata": {},
   "outputs": [],
   "source": [
    "y1 = df['Placement_Score']\n",
    "x1 = df.drop(columns=['Placement_Score'])"
   ]
  },
  {
   "cell_type": "markdown",
   "id": "d2d15ce1",
   "metadata": {},
   "source": [
    "## Split Data for Regression\n",
    "Split the data into training and testing sets for regression models."
   ]
  },
  {
   "cell_type": "code",
   "execution_count": 14,
   "id": "cf060fee",
   "metadata": {},
   "outputs": [],
   "source": [
    "X1_train, X1_test, y1_train, y1_test = train_test_split(x1, y1, test_size=0.2, random_state=42)"
   ]
  },
  {
   "cell_type": "markdown",
   "id": "7163e6fb",
   "metadata": {},
   "source": [
    "## Train Linear Regression Model\n",
    "Fit a linear regression model to predict placement scores and evaluate its performance."
   ]
  },
  {
   "cell_type": "code",
   "execution_count": 15,
   "id": "3d7d2c9c",
   "metadata": {},
   "outputs": [
    {
     "name": "stdout",
     "output_type": "stream",
     "text": [
      "Mean Absolute Error: 0.6463\n",
      "Mean Squared Error: 6.8651\n",
      "Root Mean Squared Error: 2.6201\n",
      "R2 score is not applicabe here as varience in our data is very less\n"
     ]
    }
   ],
   "source": [
    "Linear_model = LinearRegression()\n",
    "Linear_model.fit(X1_train, y1_train)\n",
    "y1_pred_Linear = Linear_model.predict(X1_test)\n",
    "y1_pred_Linear = np.clip(y1_pred_Linear, 0, 100)\n",
    "print(f\"Mean Absolute Error: {mean_absolute_error(y1_test, y1_pred_Linear):.4f}\")\n",
    "print(f\"Mean Squared Error: {mean_squared_error(y1_test, y1_pred_Linear):.4f}\")\n",
    "print(f\"Root Mean Squared Error: {root_mean_squared_error(y1_test, y1_pred_Linear):.4f}\")\n",
    "print(\"R2 score is not applicabe here as varience in our data is very less\")"
   ]
  },
  {
   "cell_type": "markdown",
   "id": "0c0d8744",
   "metadata": {},
   "source": [
    "## Linear Regression: Actual vs Predicted\n",
    "Visualize the relationship between actual and predicted placement scores."
   ]
  },
  {
   "cell_type": "code",
   "execution_count": 16,
   "id": "bffaa026",
   "metadata": {},
   "outputs": [
    {
     "data": {
      "image/png": "[encoded data removed]",
      "text/plain": [
       "<Figure size 640x480 with 1 Axes>"
      ]
     },
     "metadata": {},
     "output_type": "display_data"
    }
   ],
   "source": [
    "plt.scatter(y1_test, y1_pred_Linear)\n",
    "plt.xlabel(\"Actual Scores\")\n",
    "plt.ylabel(\"Predicted Scores\")\n",
    "plt.title(\"Linear Regression: Actual vs. Predicted Scores\")\n",
    "plt.show()"
   ]
  },
  {
   "cell_type": "markdown",
   "id": "a726c9dc",
   "metadata": {},
   "source": [
    "## Compare Linear and Logistic Regression Predictions\n",
    "Plot and compare the predictions from linear and logistic regression models."
   ]
  },
  {
   "cell_type": "code",
   "execution_count": null,
   "id": "e9686728",
   "metadata": {},
   "outputs": [
    {
     "data": {
      "image/png": "[encoded data removed]",
      "text/plain": [
       "<Figure size 800x600 with 1 Axes>"
      ]
     },
     "metadata": {},
     "output_type": "display_data"
    },
    {
     "name": "stdout",
     "output_type": "stream",
     "text": [
      "Comparison plot shows how Linear Regression predicts Placement Scores (0-100) while Logistic Regression predicts Placement Probability (0-1 scaled to 0-100).\n",
      "the logistic and linear regression models are are matching with few exeptions\n"
     ]
    }
   ],
   "source": [
    "\n",
    "\n",
    "\n",
    "plt.figure(figsize=(8,6))\n",
    "plt.scatter(y1_test, y1_pred_Linear, label='Linear Regression (Predicted Placement Score)', alpha=0.7)\n",
    "plt.scatter(y_test, logistic_model.predict_proba(X_test)[:,1]*100, label='Logistic Regression (Predicted Placement Probability x100)', alpha=0.7)\n",
    "plt.xlabel('Actual Placement Score / Placed (0 or 1)')\n",
    "plt.ylabel('Predicted Value')\n",
    "plt.title('Comparison: Linear vs Logistic Regression Predictions')\n",
    "plt.legend()\n",
    "plt.show()\n",
    "print(\"Comparison plot shows how Linear Regression predicts Placement Scores (0-100) while Logistic Regression predicts Placement Probability (0-1 scaled to 0-100).\\n\")\n",
    "print(\"the logistic and linear regression models are are matching with few exeptions\")"
   ]
  },
  {
   "cell_type": "markdown",
   "id": "17a95605",
   "metadata": {},
   "source": [
    "## Key Insights\n",
    "Summarize the main findings from the analysis and modeling."
   ]
  },
  {
   "cell_type": "code",
   "execution_count": 18,
   "id": "af46ea65",
   "metadata": {},
   "outputs": [
    {
     "name": "stdout",
     "output_type": "stream",
     "text": [
      "Insight 1: 'Placement_Score' is the most important feature for predicting placement (Random Forest importance = 0.51).\n",
      "Insight 2: Both Logistic Regression and Random Forest models achieve very high accuracy (Logistic: 99.23%, Random Forest: 99.34%).\n",
      "Insight 3: Linear Regression predictions for Placement_Score are tightly clustered near 100 (mean=99.59, std=1.40), indicating low variance in the target.\n"
     ]
    }
   ],
   "source": [
    "print(\"Insight 1: 'Placement_Score' is the most important feature for predicting placement (Random Forest importance = {:.2f}).\".format(feature_importance_series['Placement_Score']))\n",
    "print(\"Insight 2: Both Logistic Regression and Random Forest models achieve very high accuracy (Logistic: {:.2%}, Random Forest: {:.2%}).\".format(logistic_accuracy, rf_clf_accuracy))\n",
    "print(\"Insight 3: Linear Regression predictions for Placement_Score are tightly clustered near 100 (mean={:.2f}, std={:.2f}), indicating low variance in the target.\".format(np.mean(y1_pred_Linear), np.std(y1_pred_Linear)))\n"
   ]
  },
  {
   "cell_type": "code",
   "execution_count": null,
   "id": "835b17f8",
   "metadata": {},
   "outputs": [],
   "source": []
  }
 ],
 "metadata": {
  "kernelspec": {
   "display_name": ".venv",
   "language": "python",
   "name": "python3"
  },
  "language_info": {
   "codemirror_mode": {
    "name": "ipython",
    "version": 3
   },
   "file_extension": ".py",
   "mimetype": "text/x-python",
   "name": "python",
   "nbconvert_exporter": "python",
   "pygments_lexer": "ipython3",
   "version": "3.13.7"
  }
 },
 "nbformat": 4,
 "nbformat_minor": 5
}
